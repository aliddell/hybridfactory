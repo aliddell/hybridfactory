{
 "cells": [
  {
   "cell_type": "code",
   "execution_count": 1,
   "metadata": {},
   "outputs": [],
   "source": [
    "import os\n",
    "import sys\n",
    "homedir = os.getenv(\"USERPROFILE\") if sys.platform=='win32' else os.getenv(\"HOME\")"
   ]
  },
  {
   "cell_type": "code",
   "execution_count": 2,
   "metadata": {},
   "outputs": [
    {
     "name": "stderr",
     "output_type": "stream",
     "text": [
      "C:\\Users\\Alan\\Anaconda3\\lib\\site-packages\\h5py\\__init__.py:36: FutureWarning: Conversion of the second argument of issubdtype from `float` to `np.floating` is deprecated. In future, it will be treated as `np.float64 == np.dtype(float).type`.\n",
      "  from ._conv import register_converters as _register_converters\n"
     ]
    }
   ],
   "source": [
    "import os.path as op\n",
    "\n",
    "import matplotlib.pyplot as plt\n",
    "import numpy as np\n",
    "\n",
    "factory_dir = op.join(homedir, \"repos\", \"hybridfactory\")\n",
    "if not factory_dir in sys.path:\n",
    "    sys.path.insert(0, factory_dir)\n",
    "\n",
    "import factory.io.spikegl\n",
    "import factory.data.dataset\n",
    "import factory.data.annotation\n",
    "import factory.probes"
   ]
  },
  {
   "cell_type": "code",
   "execution_count": 3,
   "metadata": {},
   "outputs": [],
   "source": [
    "%matplotlib notebook"
   ]
  },
  {
   "cell_type": "code",
   "execution_count": 8,
   "metadata": {},
   "outputs": [],
   "source": [
    "def hh2_arseny():\n",
    "    \"\"\"Create and return an hh2_arseny probe.\n",
    "\n",
    "    (See https://github.com/JaneliaSciComp/JRCLUST/blob/master/prb/hh2_arseny.prb for details.)\n",
    "\n",
    "    Returns\n",
    "    -------\n",
    "    probe : Probe\n",
    "    \"\"\"\n",
    "    num_channels = 256\n",
    "\n",
    "    # the full channel map for the Arseny probe\n",
    "    channel_map = np.hstack((np.arange(64), np.array([111, 110, 109, 108, 106, 107, 104, 105, 102, 103, 100, 101, 98,\n",
    "                                                      99, 96, 97, 80, 81, 82, 83, 85, 84, 87, 86, 89, 88, 91, 90, 93,\n",
    "                                                      92, 95, 94, 65, 64, 67, 66, 69, 68, 71, 70, 73, 72, 75, 74, 76,\n",
    "                                                      77, 78, 79, 126, 127, 124, 125, 122, 123, 120, 121, 118, 119, 116,\n",
    "                                                      117, 115, 114, 113, 112]), np.arange(128, 256)))\n",
    "\n",
    "    # reference channels\n",
    "    refchans = np.hstack((np.arange(64), np.arange(128, 256)))\n",
    "    connected = ~np.isin(channel_map, refchans)\n",
    "\n",
    "    # physical location of each channel on the probe\n",
    "    xcoords = np.hstack((np.repeat(np.nan, num_channels // 4),\n",
    "                         np.repeat([0, 250], num_channels // 8), np.repeat(np.nan, num_channels // 2)))\n",
    "    ycoords = np.hstack((np.repeat(np.nan, num_channels // 4),\n",
    "                         np.tile(25 * np.arange(32), 2), np.repeat(np.nan, num_channels // 2)))\n",
    "    channel_positions = np.hstack((xcoords[:, np.newaxis], ycoords[:, np.newaxis]))\n",
    "\n",
    "    return factory.probes.probe.Probe(channel_map, connected, channel_positions, name=\"Arseny\")"
   ]
  },
  {
   "cell_type": "code",
   "execution_count": 9,
   "metadata": {},
   "outputs": [
    {
     "name": "stdout",
     "output_type": "stream",
     "text": [
      "C:\\Users\\Alan\\Anaconda3\\lib\\os.py\n"
     ]
    },
    {
     "ename": "AttributeError",
     "evalue": "module 'ntpath' has no attribute 'listdir'",
     "output_type": "error",
     "traceback": [
      "\u001b[1;31m---------------------------------------------------------------------------\u001b[0m",
      "\u001b[1;31mAttributeError\u001b[0m                            Traceback (most recent call last)",
      "\u001b[1;32m<ipython-input-9-776647d8478e>\u001b[0m in \u001b[0;36m<module>\u001b[1;34m()\u001b[0m\n\u001b[0;32m      3\u001b[0m \u001b[1;33m\u001b[0m\u001b[0m\n\u001b[0;32m      4\u001b[0m factory.data.dataset.load_annotated_dataset(filename, np.int16, hh2_arseny(),\n\u001b[1;32m----> 5\u001b[1;33m                                             ann_location=r\"F:\\Spike sorting\\2017-10-25-easy1\\arseny\")\n\u001b[0m",
      "\u001b[1;32m~\\repos\\hybridfactory\\factory\\data\\dataset.py\u001b[0m in \u001b[0;36mload_annotated_dataset\u001b[1;34m(filename, dtype, probe, ann_location, ann_format)\u001b[0m\n\u001b[0;32m    296\u001b[0m         \u001b[0mannotations\u001b[0m \u001b[1;33m=\u001b[0m \u001b[0mfactory\u001b[0m\u001b[1;33m.\u001b[0m\u001b[0mdata\u001b[0m\u001b[1;33m.\u001b[0m\u001b[0mannotation\u001b[0m\u001b[1;33m.\u001b[0m\u001b[0mload_jrc\u001b[0m\u001b[1;33m(\u001b[0m\u001b[0mann_location\u001b[0m\u001b[1;33m)\u001b[0m\u001b[1;33m\u001b[0m\u001b[0m\n\u001b[0;32m    297\u001b[0m     \u001b[1;32melse\u001b[0m\u001b[1;33m:\u001b[0m  \u001b[1;31m# try to infer the annotation ann_format\u001b[0m\u001b[1;33m\u001b[0m\u001b[0m\n\u001b[1;32m--> 298\u001b[1;33m         \u001b[0mls\u001b[0m \u001b[1;33m=\u001b[0m \u001b[0mop\u001b[0m\u001b[1;33m.\u001b[0m\u001b[0mlistdir\u001b[0m\u001b[1;33m(\u001b[0m\u001b[0mann_location\u001b[0m\u001b[1;33m)\u001b[0m\u001b[1;33m\u001b[0m\u001b[0m\n\u001b[0m\u001b[0;32m    299\u001b[0m         \u001b[1;32mif\u001b[0m \u001b[1;34m\"spike_times.npy\"\u001b[0m \u001b[1;32min\u001b[0m \u001b[0mls\u001b[0m \u001b[1;32mand\u001b[0m \u001b[1;34m\"spike_templates.npy\"\u001b[0m \u001b[1;32min\u001b[0m \u001b[0mls\u001b[0m \u001b[1;32mand\u001b[0m \u001b[1;34m\"spike_clusters.npy\"\u001b[0m \u001b[1;32min\u001b[0m \u001b[0mls\u001b[0m\u001b[1;33m:\u001b[0m\u001b[1;33m\u001b[0m\u001b[0m\n\u001b[0;32m    300\u001b[0m             \u001b[0mannotations\u001b[0m \u001b[1;33m=\u001b[0m \u001b[0mfactory\u001b[0m\u001b[1;33m.\u001b[0m\u001b[0mdata\u001b[0m\u001b[1;33m.\u001b[0m\u001b[0mannotation\u001b[0m\u001b[1;33m.\u001b[0m\u001b[0mload_phy\u001b[0m\u001b[1;33m(\u001b[0m\u001b[0mann_location\u001b[0m\u001b[1;33m)\u001b[0m\u001b[1;33m\u001b[0m\u001b[0m\n",
      "\u001b[1;31mAttributeError\u001b[0m: module 'ntpath' has no attribute 'listdir'"
     ]
    }
   ],
   "source": [
    "filename = r\"F:\\Spike sorting\\2017-10-25-easy1\\SpikeGL\\anm365938_g0_t*.nidq.bin\"\n",
    "\n",
    "factory.data.dataset.load_annotated_dataset(filename, np.int16, hh2_arseny(),\n",
    "                                            ann_location=r\"F:\\Spike sorting\\2017-10-25-easy1\\arseny\")"
   ]
  },
  {
   "cell_type": "code",
   "execution_count": null,
   "metadata": {},
   "outputs": [],
   "source": [
    "start_times = factory.io.spikegl.get_start_times(r\"F:\\Spike sorting\\2017-10-25-easy1\\SpikeGL\\anm365938_g0_t*.nidq.meta\")"
   ]
  },
  {
   "cell_type": "code",
   "execution_count": null,
   "metadata": {
    "scrolled": true
   },
   "outputs": [],
   "source": [
    "np.issubdtype((start_times==1).dtype, np.bool_)"
   ]
  },
  {
   "cell_type": "code",
   "execution_count": null,
   "metadata": {},
   "outputs": [],
   "source": [
    "dset = factory.data.dataset.DataSet(r\"F:\\Spike sorting\\2017-10-25-easy1\\SpikeGL\\anm365938_g0_t*.nidq.bin\", np.int16, 256, start_times)\n",
    "dset._metadata.head()"
   ]
  },
  {
   "cell_type": "code",
   "execution_count": null,
   "metadata": {},
   "outputs": [],
   "source": [
    "channels = np.arange(64, 128)\n",
    "samples = np.hstack((np.arange(876543, 987654), np.arange(1063000, 1063500)))"
   ]
  },
  {
   "cell_type": "code",
   "execution_count": null,
   "metadata": {},
   "outputs": [],
   "source": [
    "dset.open_raw()"
   ]
  },
  {
   "cell_type": "code",
   "execution_count": null,
   "metadata": {},
   "outputs": [],
   "source": [
    "roi = dset.read_roi(channels, samples)"
   ]
  },
  {
   "cell_type": "code",
   "execution_count": null,
   "metadata": {},
   "outputs": [],
   "source": [
    "roi.shape"
   ]
  },
  {
   "cell_type": "code",
   "execution_count": null,
   "metadata": {},
   "outputs": [],
   "source": [
    "plt.figure()\n",
    "\n",
    "plt.imshow(roi[:, -1000:], \"coolwarm\", aspect=\"auto\")"
   ]
  },
  {
   "cell_type": "code",
   "execution_count": null,
   "metadata": {},
   "outputs": [],
   "source": [
    "dset.close_raw()"
   ]
  },
  {
   "cell_type": "code",
   "execution_count": null,
   "metadata": {},
   "outputs": [],
   "source": [
    "dset.open_raw(\"r+\")"
   ]
  },
  {
   "cell_type": "code",
   "execution_count": null,
   "metadata": {},
   "outputs": [],
   "source": [
    "dset.write_roi(channels, samples, roi)"
   ]
  },
  {
   "cell_type": "code",
   "execution_count": null,
   "metadata": {},
   "outputs": [],
   "source": [
    "dset.close_raw()"
   ]
  },
  {
   "cell_type": "code",
   "execution_count": null,
   "metadata": {},
   "outputs": [],
   "source": [
    "annotations = factory.data.annotation.load_jrc(r\"F:/Spike sorting/2017-10-25-easy1/arseny\")"
   ]
  },
  {
   "cell_type": "code",
   "execution_count": null,
   "metadata": {},
   "outputs": [],
   "source": [
    "annotations.head()"
   ]
  },
  {
   "cell_type": "code",
   "execution_count": null,
   "metadata": {},
   "outputs": [],
   "source": [
    "47 in annotations.cluster"
   ]
  },
  {
   "cell_type": "code",
   "execution_count": null,
   "metadata": {},
   "outputs": [],
   "source": [
    "eMouse = factory.probes.eMouse()"
   ]
  },
  {
   "cell_type": "code",
   "execution_count": null,
   "metadata": {},
   "outputs": [],
   "source": [
    "fig, ax = eMouse.display()"
   ]
  },
  {
   "cell_type": "code",
   "execution_count": null,
   "metadata": {},
   "outputs": [],
   "source": [
    "type(ax)"
   ]
  },
  {
   "cell_type": "code",
   "execution_count": null,
   "metadata": {},
   "outputs": [],
   "source": [
    "eMouse.positions"
   ]
  },
  {
   "cell_type": "code",
   "execution_count": null,
   "metadata": {},
   "outputs": [],
   "source": []
  }
 ],
 "metadata": {
  "kernelspec": {
   "display_name": "Python 3",
   "language": "python",
   "name": "python3"
  },
  "language_info": {
   "codemirror_mode": {
    "name": "ipython",
    "version": 3
   },
   "file_extension": ".py",
   "mimetype": "text/x-python",
   "name": "python",
   "nbconvert_exporter": "python",
   "pygments_lexer": "ipython3",
   "version": "3.6.4"
  }
 },
 "nbformat": 4,
 "nbformat_minor": 2
}
