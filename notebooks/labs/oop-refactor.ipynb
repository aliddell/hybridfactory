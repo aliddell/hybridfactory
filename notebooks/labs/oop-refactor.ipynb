{
 "cells": [
  {
   "cell_type": "code",
   "execution_count": null,
   "metadata": {},
   "outputs": [],
   "source": [
    "import os\n",
    "import sys\n",
    "homedir = os.getenv(\"USERPROFILE\") if sys.platform=='win32' else os.getenv(\"HOME\")"
   ]
  },
  {
   "cell_type": "code",
   "execution_count": null,
   "metadata": {
    "scrolled": true
   },
   "outputs": [],
   "source": [
    "import os.path as op\n",
    "\n",
    "import matplotlib.pyplot as plt\n",
    "import numpy as np\n",
    "\n",
    "factory_dir = op.join(homedir, \"repos\", \"hybridfactory\")\n",
    "if not factory_dir in sys.path:\n",
    "    sys.path.insert(0, factory_dir)\n",
    "\n",
    "import factory.data.dataset\n",
    "import factory.data.annotation\n",
    "import factory.probes\n",
    "\n",
    "from factory.probes.probe import Probe"
   ]
  },
  {
   "cell_type": "code",
   "execution_count": null,
   "metadata": {},
   "outputs": [],
   "source": [
    "%matplotlib notebook"
   ]
  },
  {
   "cell_type": "code",
   "execution_count": null,
   "metadata": {},
   "outputs": [],
   "source": [
    "def hh2_arseny():\n",
    "    \"\"\"Create and return an hh2_arseny probe.\n",
    "\n",
    "    (See https://github.com/JaneliaSciComp/JRCLUST/blob/master/prb/hh2_arseny.prb for details.)\n",
    "\n",
    "    Returns\n",
    "    -------\n",
    "    probe : Probe\n",
    "    \"\"\"\n",
    "    num_channels = 256\n",
    "\n",
    "    # the full channel map for the Arseny probe\n",
    "    channel_map = np.hstack((np.arange(64), np.array([111, 110, 109, 108, 106, 107, 104, 105, 102, 103, 100, 101, 98,\n",
    "                                                      99, 96, 97, 80, 81, 82, 83, 85, 84, 87, 86, 89, 88, 91, 90, 93,\n",
    "                                                      92, 95, 94, 65, 64, 67, 66, 69, 68, 71, 70, 73, 72, 75, 74, 76,\n",
    "                                                      77, 78, 79, 126, 127, 124, 125, 122, 123, 120, 121, 118, 119, 116,\n",
    "                                                      117, 115, 114, 113, 112]), np.arange(128, 256)))\n",
    "\n",
    "    # reference channels\n",
    "    refchans = np.hstack((np.arange(64), np.arange(128, 256)))\n",
    "    connected = ~np.isin(channel_map, refchans)\n",
    "\n",
    "    # physical location of each channel on the probe\n",
    "    xcoords = np.hstack((np.repeat(np.nan, num_channels // 4),\n",
    "                         np.repeat([0, 250], num_channels // 8), np.repeat(np.nan, num_channels // 2)))\n",
    "    ycoords = np.hstack((np.repeat(np.nan, num_channels // 4),\n",
    "                         np.tile(25 * np.arange(32), 2), np.repeat(np.nan, num_channels // 2)))\n",
    "    channel_positions = np.hstack((xcoords[:, np.newaxis], ycoords[:, np.newaxis]))\n",
    "\n",
    "    return Probe(channel_map, connected, channel_positions, name=\"Arseny\")"
   ]
  },
  {
   "cell_type": "code",
   "execution_count": null,
   "metadata": {},
   "outputs": [],
   "source": [
    "filename = r\"F:\\Spike sorting\\2017-10-25-easy1\\SpikeGL\\anm365938_g0_t*.nidq.bin\"\n",
    "datadir = r\"F:\\Spike sorting\\2017-10-25-easy1\\arseny\"\n",
    "\n",
    "arseny = factory.data.dataset.new_annotated_dataset(filename, np.int16, 25000, hh2_arseny(),\n",
    "                                                    ann_location=datadir, ann_format=None)"
   ]
  },
  {
   "cell_type": "code",
   "execution_count": null,
   "metadata": {},
   "outputs": [],
   "source": [
    "eMouse = factory.data.dataset.new_annotated_dataset(op.join(homedir, \"Documents\", \"Data\", \"eMouse\", \"sim_binary.dat\"),\n",
    "                                                    np.int16, 25000, factory.probes.eMouse(),\n",
    "                                                    ann_location=None, ann_format=None)"
   ]
  },
  {
   "cell_type": "code",
   "execution_count": null,
   "metadata": {},
   "outputs": [],
   "source": [
    "filename = r\"F:\\CortexLab\\singlePhase3\\data\\Hopkins_20160722_g0_t0.imec.ap_CAR.bin\"\n",
    "cortex = factory.data.dataset.new_annotated_dataset(filename, np.int16, 30000, factory.probes.neuropixels3a(),\n",
    "                                                    ann_location=None, ann_format=None)"
   ]
  },
  {
   "cell_type": "code",
   "execution_count": null,
   "metadata": {},
   "outputs": [],
   "source": [
    "def transform(s):\n",
    "    import os\n",
    "    import os.path as op\n",
    "    olddir = r\"C:\\Users\\Alan\\Documents\\Data\\eMouse\"\n",
    "    newdir = r\"C:\\Users\\Alan\\Documents\\Data\\eMouse_hybrid\"\n",
    "    if not op.isdir(newdir):\n",
    "        os.mkdir(newdir)\n",
    "        \n",
    "    return s.replace(olddir, newdir)\n",
    "\n",
    "eMouse_hybrid = factory.data.dataset.new_hybrid_dataset(eMouse, output_directory=r\"C:\\Users\\Alan\\Documents\\Data\\eMouse_hybrid\",\n",
    "                                                        copy=True, create=True, transform=None)"
   ]
  },
  {
   "cell_type": "code",
   "execution_count": null,
   "metadata": {},
   "outputs": [],
   "source": [
    "eMouse_hybrid.unit_event_count(-1)"
   ]
  },
  {
   "cell_type": "code",
   "execution_count": null,
   "metadata": {},
   "outputs": [],
   "source": [
    "factory.data.dataset.save_dataset(eMouse, r\"C:\\Users\\Alan\\Documents\\Data\\eMouse_hybrid\", \"saved\")"
   ]
  },
  {
   "cell_type": "code",
   "execution_count": null,
   "metadata": {},
   "outputs": [],
   "source": [
    "eMouse2 = factory.data.dataset.load_dataset(r\"C:\\Users\\Alan\\Documents\\Data\\eMouse_hybrid\")"
   ]
  },
  {
   "cell_type": "code",
   "execution_count": null,
   "metadata": {},
   "outputs": [],
   "source": [
    "window_start = arseny._metadata.start_time.values\n",
    "window_stop = window_start + arseny._metadata.samples.values"
   ]
  },
  {
   "cell_type": "code",
   "execution_count": null,
   "metadata": {},
   "outputs": [],
   "source": [
    "samples_before = samples_after = 40"
   ]
  },
  {
   "cell_type": "code",
   "execution_count": null,
   "metadata": {},
   "outputs": [],
   "source": [
    "jittered_times = np.sort(np.random.choice(arseny.last_sample(), size=100000, replace=False)); jittered_times"
   ]
  },
  {
   "cell_type": "code",
   "execution_count": null,
   "metadata": {},
   "outputs": [],
   "source": [
    "before_index = np.searchsorted(window_start, jittered_times - samples_before, side=\"right\")\n",
    "# ...and ensure that it's the same file that t + samples_after goes\n",
    "after_index = np.searchsorted(window_stop, jittered_times + samples_after, side=\"left\") + 1"
   ]
  },
  {
   "cell_type": "code",
   "execution_count": null,
   "metadata": {},
   "outputs": [],
   "source": [
    "mask = before_index == after_index"
   ]
  },
  {
   "cell_type": "code",
   "execution_count": null,
   "metadata": {
    "scrolled": true
   },
   "outputs": [],
   "source": [
    "np.count_nonzero(mask), np.count_nonzero(~mask)"
   ]
  },
  {
   "cell_type": "code",
   "execution_count": null,
   "metadata": {},
   "outputs": [],
   "source": [
    "np.where(~mask)[0]"
   ]
  },
  {
   "cell_type": "code",
   "execution_count": null,
   "metadata": {},
   "outputs": [],
   "source": [
    "(jittered_times - samples_before)[131], (jittered_times + samples_after)[131]"
   ]
  },
  {
   "cell_type": "code",
   "execution_count": null,
   "metadata": {},
   "outputs": [],
   "source": [
    "before_index[131], after_index[131]"
   ]
  },
  {
   "cell_type": "code",
   "execution_count": null,
   "metadata": {},
   "outputs": [],
   "source": [
    "window_start[1], window_stop[1]"
   ]
  },
  {
   "cell_type": "code",
   "execution_count": null,
   "metadata": {},
   "outputs": [],
   "source": [
    "tuple(set(np.sctypeDict.values()))"
   ]
  },
  {
   "cell_type": "code",
   "execution_count": null,
   "metadata": {},
   "outputs": [],
   "source": [
    "2**31"
   ]
  },
  {
   "cell_type": "code",
   "execution_count": null,
   "metadata": {},
   "outputs": [],
   "source": [
    "not 0"
   ]
  },
  {
   "cell_type": "code",
   "execution_count": null,
   "metadata": {},
   "outputs": [],
   "source": [
    "ann = eMouse.annotations"
   ]
  },
  {
   "cell_type": "code",
   "execution_count": null,
   "metadata": {},
   "outputs": [],
   "source": [
    "\"template\" in ann.columns"
   ]
  },
  {
   "cell_type": "code",
   "execution_count": null,
   "metadata": {},
   "outputs": [],
   "source": [
    "import pandas as pd\n",
    "a = pd.DataFrame({\"timestep\": ann.timestep.values, \"template\": -1, \"cluster\": 300})"
   ]
  },
  {
   "cell_type": "code",
   "execution_count": null,
   "metadata": {},
   "outputs": [],
   "source": [
    "ann.append?"
   ]
  },
  {
   "cell_type": "code",
   "execution_count": null,
   "metadata": {},
   "outputs": [],
   "source": [
    "ann.append(a)"
   ]
  },
  {
   "cell_type": "code",
   "execution_count": 6,
   "metadata": {},
   "outputs": [
    {
     "data": {
      "text/plain": [
       "'699a148b'"
      ]
     },
     "execution_count": 6,
     "metadata": {},
     "output_type": "execute_result"
    }
   ],
   "source": [
    "import hashlib\n",
    "import datetime\n",
    "\n",
    "timestamp = \n",
    "\n",
    "hashlib.md5(str(datetime.datetime.now().timestamp()).encode()).hexdigest()[-8:]"
   ]
  },
  {
   "cell_type": "code",
   "execution_count": 1,
   "metadata": {},
   "outputs": [],
   "source": [
    "bytes?"
   ]
  },
  {
   "cell_type": "code",
   "execution_count": null,
   "metadata": {},
   "outputs": [],
   "source": []
  }
 ],
 "metadata": {
  "kernelspec": {
   "display_name": "Python 3",
   "language": "python",
   "name": "python3"
  },
  "language_info": {
   "codemirror_mode": {
    "name": "ipython",
    "version": 3
   },
   "file_extension": ".py",
   "mimetype": "text/x-python",
   "name": "python",
   "nbconvert_exporter": "python",
   "pygments_lexer": "ipython3",
   "version": "3.6.5"
  }
 },
 "nbformat": 4,
 "nbformat_minor": 2
}
